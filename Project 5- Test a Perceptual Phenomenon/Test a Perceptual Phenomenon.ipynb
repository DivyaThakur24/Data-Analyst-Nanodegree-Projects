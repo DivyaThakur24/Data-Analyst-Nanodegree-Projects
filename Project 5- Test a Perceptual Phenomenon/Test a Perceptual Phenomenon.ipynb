{
 "cells": [
  {
   "cell_type": "markdown",
   "metadata": {},
   "source": [
    "## Analyzing the Stroop Effect\n",
    "Perform the analysis in the space below. Remember to follow [the instructions](https://docs.google.com/document/d/1-OkpZLjG_kX9J6LIQ5IltsqMzVWjh36QpnP2RYpVdPU/pub?embedded=True) and review the [project rubric](https://review.udacity.com/#!/rubrics/71/view) before submitting. Once you've completed the analysis and write-up, download this file as a PDF or HTML file, upload that PDF/HTML into the workspace here (click on the orange Jupyter icon in the upper left then Upload), then use the Submit Project button at the bottom of this page. This will create a zip file containing both this .ipynb doc and the PDF/HTML doc that will be submitted for your project.\n",
    "\n",
    "### Project Overview\n",
    "\n",
    ">In a Stroop task, participants are presented with a list of words, with each word displayed in a color of ink. The participant’s task is to say out loud the color of the ink in which the word is printed. The task has two conditions: a congruent words condition, and an incongruent words condition. In the congruent words condition, the words being displayed are color words whose names match the colors in which they are printed: for example RED, BLUE. In the incongruent words condition, the words displayed are color words whose names do not match the colors in which they are printed: for example PURPLE, ORANGE. In each case, we measure the time it takes to name the ink colors in equally-sized lists. Each participant will go through and record the time from each condition.\n",
    "\n",
    "\n",
    "### (1) What is the independent variable? What is the dependent variable?"
   ]
  },
  {
   "cell_type": "markdown",
   "metadata": {},
   "source": [
    "**Independent variable:** Congruent and Incongruent words conditions.\n",
    "\n",
    "**Dependent variable:** Time taken to name the ink colors in equally-sized lists of Congruent and Incongruent words."
   ]
  },
  {
   "cell_type": "markdown",
   "metadata": {},
   "source": [
    "### (2) What is an appropriate set of hypotheses for this task? Specify your null and alternative hypotheses, and clearly define any notation used. Justify your choices."
   ]
  },
  {
   "cell_type": "markdown",
   "metadata": {},
   "source": [
    "**Hypotheses:**\n",
    "\n",
    "**$H_0$: $\\mu_{C} = \\mu_{I}$**\n",
    "\n",
    "**$H_a$: $\\mu_{C} \\neq \\mu_{I}$**\n",
    "\n",
    "Where:\n",
    "\n",
    "-$H_0$ represents the null hypothesis\n",
    "\n",
    "-$H_a$ represents the alternative hypotheses respectively\n",
    "\n",
    "-$\\mu_C$ represents the population average reading time for congruently colored words (C = Congruent)\n",
    "\n",
    "-$\\mu_I$ represents the population average reading time for incongruently colored words (I = Incongruent)\n",
    "\n",
    "In other Words:\n",
    "\n",
    "For the null hyposis:\n",
    "\n",
    "$H_0$: $\\mu_{C} - \\mu_{I} = 0$\n",
    "\n",
    "-  It states that there are no differences between the average printed-color identification time for Congruent words vs the printed-color identification time of Incongruent colored words. The mean difference between paired observations is zero.\n",
    "\n",
    "Alternate Hypothesis:\n",
    "\n",
    "$H_a$: $\\mu_{C} - \\mu_{I} \\neq 0$ \n",
    "\n",
    "-  It states that the difference between the response time for congruent words vs incongruent words is not zero."
   ]
  },
  {
   "cell_type": "markdown",
   "metadata": {},
   "source": [
    "**Hypothesis Testing Explanation:**\n",
    "\n",
    "We need to assign an appropriate hypothesis which will prove and validate the Stroop effect, the Stroop effect suggests that the response time for naming the color is less for the Congruent words than those of the Incongruent words.   \n",
    "Hence, there must be a difference in the central tendencies of the population from which the sample is derived. The population parameters here are unknown so we can not take the entire population into consideration, we will have to work with the samples in our hands and use the method of hypothesis and statistical testing to infer the results.\n",
    "\n",
    "**Test Selection:** \n",
    "\n",
    "In order to infer the population parameters and accept or reject the null hypothesis from the samples provided, I will perform the two-tailed dependent sample T-test.  \n",
    "The selection of paired sample T-test is due to the fact that we are comparing the reaction time of a sample from the same population in two different conditions (Congruent & Incongruent word conditions).  \n",
    "If we got a significant result, we can reject the null hypothesis and accept the alternative hypothesis that there are statistically significant differences between the mean time taken to name ink color between two test conditions."
   ]
  },
  {
   "cell_type": "markdown",
   "metadata": {},
   "source": [
    "### (3) Report some descriptive statistics regarding this dataset. Include at least one measure of central tendency and at least one measure of variability. The name of the data file is 'stroopdata.csv'."
   ]
  },
  {
   "cell_type": "code",
   "execution_count": 28,
   "metadata": {},
   "outputs": [],
   "source": [
    "# Import the required libraries\n",
    "\n",
    "import math\n",
    "import pandas as pd\n",
    "import numpy as np\n",
    "import matplotlib.pyplot as plt\n",
    "import seaborn as sns\n",
    "from scipy.stats import t\n",
    "%matplotlib inline"
   ]
  },
  {
   "cell_type": "code",
   "execution_count": 29,
   "metadata": {},
   "outputs": [
    {
     "data": {
      "text/html": [
       "<div>\n",
       "<style>\n",
       "    .dataframe thead tr:only-child th {\n",
       "        text-align: right;\n",
       "    }\n",
       "\n",
       "    .dataframe thead th {\n",
       "        text-align: left;\n",
       "    }\n",
       "\n",
       "    .dataframe tbody tr th {\n",
       "        vertical-align: top;\n",
       "    }\n",
       "</style>\n",
       "<table border=\"1\" class=\"dataframe\">\n",
       "  <thead>\n",
       "    <tr style=\"text-align: right;\">\n",
       "      <th></th>\n",
       "      <th>Congruent</th>\n",
       "      <th>Incongruent</th>\n",
       "    </tr>\n",
       "  </thead>\n",
       "  <tbody>\n",
       "    <tr>\n",
       "      <th>0</th>\n",
       "      <td>12.079</td>\n",
       "      <td>19.278</td>\n",
       "    </tr>\n",
       "    <tr>\n",
       "      <th>1</th>\n",
       "      <td>16.791</td>\n",
       "      <td>18.741</td>\n",
       "    </tr>\n",
       "    <tr>\n",
       "      <th>2</th>\n",
       "      <td>9.564</td>\n",
       "      <td>21.214</td>\n",
       "    </tr>\n",
       "    <tr>\n",
       "      <th>3</th>\n",
       "      <td>8.630</td>\n",
       "      <td>15.687</td>\n",
       "    </tr>\n",
       "    <tr>\n",
       "      <th>4</th>\n",
       "      <td>14.669</td>\n",
       "      <td>22.803</td>\n",
       "    </tr>\n",
       "  </tbody>\n",
       "</table>\n",
       "</div>"
      ],
      "text/plain": [
       "   Congruent  Incongruent\n",
       "0     12.079       19.278\n",
       "1     16.791       18.741\n",
       "2      9.564       21.214\n",
       "3      8.630       15.687\n",
       "4     14.669       22.803"
      ]
     },
     "execution_count": 29,
     "metadata": {},
     "output_type": "execute_result"
    }
   ],
   "source": [
    "#read and explore the dataset\n",
    "\n",
    "df = pd.read_csv(\"stroopdata.csv\")\n",
    "df.head()"
   ]
  },
  {
   "cell_type": "code",
   "execution_count": 30,
   "metadata": {},
   "outputs": [
    {
     "data": {
      "text/html": [
       "<div>\n",
       "<style>\n",
       "    .dataframe thead tr:only-child th {\n",
       "        text-align: right;\n",
       "    }\n",
       "\n",
       "    .dataframe thead th {\n",
       "        text-align: left;\n",
       "    }\n",
       "\n",
       "    .dataframe tbody tr th {\n",
       "        vertical-align: top;\n",
       "    }\n",
       "</style>\n",
       "<table border=\"1\" class=\"dataframe\">\n",
       "  <thead>\n",
       "    <tr style=\"text-align: right;\">\n",
       "      <th></th>\n",
       "      <th>Congruent</th>\n",
       "      <th>Incongruent</th>\n",
       "    </tr>\n",
       "  </thead>\n",
       "  <tbody>\n",
       "    <tr>\n",
       "      <th>count</th>\n",
       "      <td>24.000000</td>\n",
       "      <td>24.000000</td>\n",
       "    </tr>\n",
       "    <tr>\n",
       "      <th>mean</th>\n",
       "      <td>14.051125</td>\n",
       "      <td>22.015917</td>\n",
       "    </tr>\n",
       "    <tr>\n",
       "      <th>std</th>\n",
       "      <td>3.559358</td>\n",
       "      <td>4.797057</td>\n",
       "    </tr>\n",
       "    <tr>\n",
       "      <th>min</th>\n",
       "      <td>8.630000</td>\n",
       "      <td>15.687000</td>\n",
       "    </tr>\n",
       "    <tr>\n",
       "      <th>25%</th>\n",
       "      <td>11.895250</td>\n",
       "      <td>18.716750</td>\n",
       "    </tr>\n",
       "    <tr>\n",
       "      <th>50%</th>\n",
       "      <td>14.356500</td>\n",
       "      <td>21.017500</td>\n",
       "    </tr>\n",
       "    <tr>\n",
       "      <th>75%</th>\n",
       "      <td>16.200750</td>\n",
       "      <td>24.051500</td>\n",
       "    </tr>\n",
       "    <tr>\n",
       "      <th>max</th>\n",
       "      <td>22.328000</td>\n",
       "      <td>35.255000</td>\n",
       "    </tr>\n",
       "  </tbody>\n",
       "</table>\n",
       "</div>"
      ],
      "text/plain": [
       "       Congruent  Incongruent\n",
       "count  24.000000    24.000000\n",
       "mean   14.051125    22.015917\n",
       "std     3.559358     4.797057\n",
       "min     8.630000    15.687000\n",
       "25%    11.895250    18.716750\n",
       "50%    14.356500    21.017500\n",
       "75%    16.200750    24.051500\n",
       "max    22.328000    35.255000"
      ]
     },
     "execution_count": 30,
     "metadata": {},
     "output_type": "execute_result"
    }
   ],
   "source": [
    "# I will use Dataframe.describe() method to get the descriptive statistics summary of the dataset\n",
    "\n",
    "df_summary = df.describe()\n",
    "df_summary"
   ]
  },
  {
   "cell_type": "code",
   "execution_count": 31,
   "metadata": {},
   "outputs": [
    {
     "name": "stdout",
     "output_type": "stream",
     "text": [
      "\n",
      "The Mean reading times of the Congruent words is: 14.05 s\n",
      "\n",
      "The Mean reading times of the Incongruent words is: 22.02 s\n",
      "\n",
      "The Standard deviation of Congruent reading times: 3.56 s\n",
      "\n",
      "The Standard deviation of Incongruent reading times: 4.80 s\n"
     ]
    }
   ],
   "source": [
    "# Measures of Central Tendency and Variability\n",
    "\n",
    "congruent_mean = df_summary['Congruent'].loc['mean']\n",
    "incongruent_mean = df_summary['Incongruent'].loc['mean']\n",
    "congruent_std = df_summary['Congruent'].loc['std']\n",
    "incongreunt_std = df_summary['Incongruent'].loc['std']\n",
    "\n",
    "\n",
    "print(\"\\nThe Mean reading times of the Congruent words is: {:.2f} s\".format(congruent_mean))\n",
    "print(\"\\nThe Mean reading times of the Incongruent words is: {:.2f} s\".format(incongruent_mean))\n",
    "print(\"\\nThe Standard deviation of Congruent reading times: {:.2f} s\".format(congruent_std))\n",
    "print(\"\\nThe Standard deviation of Incongruent reading times: {:.2f} s\".format(incongreunt_std))"
   ]
  },
  {
   "cell_type": "markdown",
   "metadata": {},
   "source": [
    "### (4) Provide one or two visualizations that show the distribution of the sample data. Write one or two sentences noting what you observe about the plot or plots."
   ]
  },
  {
   "cell_type": "code",
   "execution_count": 32,
   "metadata": {},
   "outputs": [
    {
     "data": {
      "image/png": "[encoded data removed]",
      "text/plain": [
       "<matplotlib.figure.Figure at 0x7fc34269dd68>"
      ]
     },
     "metadata": {
      "needs_background": "light"
     },
     "output_type": "display_data"
    }
   ],
   "source": [
    "# Build the visualizations here\n",
    "\n",
    "df.hist();"
   ]
  },
  {
   "cell_type": "markdown",
   "metadata": {},
   "source": [
    ">The histogram above doesn't infer the shape of the distribution, so I'm going to use distribution plots from seaborn package to compare the two distributions."
   ]
  },
  {
   "cell_type": "code",
   "execution_count": 33,
   "metadata": {},
   "outputs": [
    {
     "data": {
      "image/png": "[encoded data removed]",
      "text/plain": [
       "<matplotlib.figure.Figure at 0x7fc34264a390>"
      ]
     },
     "metadata": {
      "needs_background": "light"
     },
     "output_type": "display_data"
    }
   ],
   "source": [
    "# Plot distributions of Congruent & Incongruent groups\n",
    "\n",
    "sns.distplot(df['Congruent'],label = \"Congruent\")\n",
    "sns.distplot(df['Incongruent'],label = \"Incongruent\")\n",
    "plt.xlabel(\"Response Time\")\n",
    "plt.title(\"Response time of Congrount vs. Incongrount \")\n",
    "plt.legend();"
   ]
  },
  {
   "cell_type": "code",
   "execution_count": 34,
   "metadata": {},
   "outputs": [
    {
     "name": "stdout",
     "output_type": "stream",
     "text": [
      "\n",
      "The Median response time of the Incongruent group is: 21.0175 s\n"
     ]
    }
   ],
   "source": [
    "# Calculating the median response time of the Incongruent words to help define if the shape of the distribution \n",
    "#is skewed to the right or it's normally distributed\n",
    "\n",
    "incongruent_median = df.Incongruent.median()\n",
    "print(\"\\nThe Median response time of the Incongruent group is: {} s\".format(incongruent_median))"
   ]
  },
  {
   "cell_type": "markdown",
   "metadata": {},
   "source": [
    "**Obervations**\n",
    "\n",
    "-  **Congruent Group:** The congruent histogram is normally distributed.\n",
    "\n",
    "-  **Incongruent Group:** The Incongruent distribution looks to be skewed to the right but the mean {incongruent_mean = 22.02} and the median {incongruent_median = 21.02} are close which would indicate a normal distribution the skewness may be due to the presence of outliers on the higher end.\n",
    "\n",
    "-  Graph infer that Congruent group has a faster response time.\n"
   ]
  },
  {
   "cell_type": "markdown",
   "metadata": {},
   "source": [
    "### (5)  Now, perform the statistical test and report your results. What is your confidence level or Type I error associated with your test? What is your conclusion regarding the hypotheses you set up? Did the results match up with your expectations? **Hint:**  Think about what is being measured on each individual, and what statistic best captures how an individual reacts in each environment."
   ]
  },
  {
   "cell_type": "code",
   "execution_count": 35,
   "metadata": {},
   "outputs": [
    {
     "name": "stdout",
     "output_type": "stream",
     "text": [
      "24\n",
      "24\n"
     ]
    }
   ],
   "source": [
    "# Both of our samples have the same size\n",
    "\n",
    "print(df['Congruent'].size)\n",
    "print(df['Incongruent'].size)"
   ]
  },
  {
   "cell_type": "code",
   "execution_count": 36,
   "metadata": {},
   "outputs": [
    {
     "data": {
      "text/plain": [
       "1.7138715277470473"
      ]
     },
     "execution_count": 36,
     "metadata": {},
     "output_type": "execute_result"
    }
   ],
   "source": [
    "# Get the t-critical value for a 95% confidence level and the degrees of freedom (24-1) = 23 d.f.\n",
    "\n",
    "t.ppf(.95, 23)"
   ]
  },
  {
   "cell_type": "markdown",
   "metadata": {},
   "source": [
    "-  We need to estimate the difference in means of the two groups:\n",
    "\n",
    "    means_diff = incongruent_mean - congruent_mean = 22.02 - 14.05 = 7.97"
   ]
  },
  {
   "cell_type": "code",
   "execution_count": 37,
   "metadata": {},
   "outputs": [
    {
     "data": {
      "text/plain": [
       "4.8648269103590556"
      ]
     },
     "execution_count": 37,
     "metadata": {},
     "output_type": "execute_result"
    }
   ],
   "source": [
    "# The standard deviation of the differences of means between the two groups:\n",
    "\n",
    "df['Difference'] = df['Congruent']-df['Incongruent']\n",
    "df['Difference'].std(axis=0)"
   ]
  },
  {
   "cell_type": "code",
   "execution_count": 38,
   "metadata": {},
   "outputs": [
    {
     "name": "stdout",
     "output_type": "stream",
     "text": [
      "T-statistic = 8.0260\n"
     ]
    }
   ],
   "source": [
    "# The t-static will be:\n",
    "\n",
    "print(\"T-statistic = {0:.4f}\".format(7.97/(4.8648 / math.sqrt(24))))"
   ]
  },
  {
   "cell_type": "markdown",
   "metadata": {},
   "source": [
    "### Conclusion\n",
    "T-statistic of 8.0260 is less than the critical value of 1.7139 for 95% confidence level and 23 degrees of freedom.\n",
    "\n",
    "Hence, we can reject the null hypothesis. This means that it does take much less time to do the congruent task than it does to do the incongruent task. This matches up with what we expected."
   ]
  },
  {
   "cell_type": "markdown",
   "metadata": {},
   "source": [
    "### (6) Optional: What do you think is responsible for the effects observed? Can you think of an alternative or similar task that would result in a similar effect? Some research about the problem will be helpful for thinking about these two questions!"
   ]
  },
  {
   "cell_type": "markdown",
   "metadata": {},
   "source": [
    "One plausible explanation for the **Stroop effect** is that humans tend to read words faster than naming colors of the printed words. In other words, if our task is to name the colors and in the meantime ignoring the printed words, then interference is very likely to result.\n",
    "In contrast, if we reverse the process by saying out the printed words and ignoring the colors, then we are likely to react to the task much easier and quicker. \n",
    "\n",
    "A similar task that would result in a similar effect is the **“Numerical Stroop Effect”**: it suggests that incongruent information will require more mental resources to resolve correctly – with numbers this time, rather than words. \n",
    "This experiment has shown that, with all else being controlled for, presenting numbers of incongruent sizes next to each other will cause the greatest interference, increasing the delay in reading and comprehension.  \n",
    "For an example, see the image below:\n",
    "\n",
    "<img src=\"numerical-stroop.jpg\">\n",
    "\n"
   ]
  },
  {
   "cell_type": "markdown",
   "metadata": {},
   "source": [
    "### Resources:\n",
    "\n",
    "-  [The Stroop Effect – How it Works and Why](https://imotions.com/blog/the-stroop-effect/)    \n",
    "-  [Stroop effect](https://en.wikipedia.org/wiki/Stroop_effect#Experimental_findings)   \n",
    "-  [t-tests and Comparing Means - Paired t-tests](http://www.statstutor.ac.uk/topics/t-tests/paired-t-tests/)   \n",
    "-  [T-Score vs. Z-Score: What’s the Difference?](https://www.statisticshowto.datasciencecentral.com/probability-and-statistics/hypothesis-testing/t-score-vs-z-score/)"
   ]
  }
 ],
 "metadata": {
  "kernelspec": {
   "display_name": "Python 3",
   "language": "python",
   "name": "python3"
  },
  "language_info": {
   "codemirror_mode": {
    "name": "ipython",
    "version": 3
   },
   "file_extension": ".py",
   "mimetype": "text/x-python",
   "name": "python",
   "nbconvert_exporter": "python",
   "pygments_lexer": "ipython3",
   "version": "3.6.3"
  }
 },
 "nbformat": 4,
 "nbformat_minor": 2
}
